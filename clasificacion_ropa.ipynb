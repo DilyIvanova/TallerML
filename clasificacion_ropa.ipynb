{
  "nbformat": 4,
  "nbformat_minor": 0,
  "metadata": {
    "colab": {
      "name": "clasificacion_ropa",
      "provenance": [],
      "collapsed_sections": [],
      "authorship_tag": "ABX9TyOPBah/3AOIEikhyEOwGuv6",
      "include_colab_link": true
    },
    "kernelspec": {
      "name": "python3",
      "display_name": "Python 3"
    },
    "language_info": {
      "name": "python"
    }
  },
  "cells": [
    {
      "cell_type": "markdown",
      "metadata": {
        "id": "view-in-github",
        "colab_type": "text"
      },
      "source": [
        "<a href=\"https://colab.research.google.com/github/DilyIvanova/TallerML/blob/main/clasificacion_ropa.ipynb\" target=\"_parent\"><img src=\"https://colab.research.google.com/assets/colab-badge.svg\" alt=\"Open In Colab\"/></a>"
      ]
    },
    {
      "cell_type": "markdown",
      "source": [
        "#Clasificación de imágenes de ropa"
      ],
      "metadata": {
        "id": "M7oe0fTwYgI2"
      }
    },
    {
      "cell_type": "markdown",
      "source": [
        "En primer lugar se importan las librerías que vamos a utilizar."
      ],
      "metadata": {
        "id": "93O0kuGNjsxM"
      }
    },
    {
      "cell_type": "code",
      "source": [
        "import numpy as np \n",
        "import pandas as pd \n",
        "import tensorflow as tf\n",
        "import matplotlib.pyplot as plt"
      ],
      "metadata": {
        "id": "8HOIzggmZEUB"
      },
      "execution_count": 1,
      "outputs": []
    },
    {
      "cell_type": "markdown",
      "source": [
        "## Datos"
      ],
      "metadata": {
        "id": "WyPdYHKOj7jh"
      }
    },
    {
      "cell_type": "markdown",
      "source": [
        " Usaremos la base de datos **Fashion MNIST**. Esta base de datos contiene 70000 artículos de ropa y cada artículo tiene:\n",
        "\n",
        "\n",
        "*   **Imagen del artículo.** Su resolución es de 28x28 píxels y para representarla se utiliza un array de dimensiones 28x28 donde cada elemento es un píxel que toma valores en el rango [0,255]. De esta forma, el 0 es blanco, el 255 negro, y los valores intermedios distintas escalas de grises, desde más claros hasta más oscuros. \n",
        "*   **Etiqueta del artículo.** La categoría a la que pertenece cada artículo, toma valores enteros en un rango de [0,9]  y corresponde a las siguientes clases:\n",
        "\n",
        "\n",
        "<table>\n",
        "  <tr>\n",
        "    <th>Label</th>\n",
        "    <th>Class</th>\n",
        "  </tr>\n",
        "  <tr>\n",
        "    <td>0</td>\n",
        "    <td>Camiseta/top</td>\n",
        "  </tr>\n",
        "  <tr>\n",
        "    <td>1</td>\n",
        "    <td>Pantalón</td>\n",
        "  </tr>\n",
        "    <tr>\n",
        "    <td>2</td>\n",
        "    <td>Jersey</td>\n",
        "  </tr>\n",
        "    <tr>\n",
        "    <td>3</td>\n",
        "    <td>Vestido</td>\n",
        "  </tr>\n",
        "    <tr>\n",
        "    <td>4</td>\n",
        "    <td>Abrigo</td>\n",
        "  </tr>\n",
        "    <tr>\n",
        "    <td>5</td>\n",
        "    <td>Sandalia</td>\n",
        "  </tr>\n",
        "    <tr>\n",
        "    <td>6</td>\n",
        "    <td>Camisa</td>\n",
        "  </tr>\n",
        "    <tr>\n",
        "    <td>7</td>\n",
        "    <td>Deportiva</td>\n",
        "  </tr>\n",
        "    <tr>\n",
        "    <td>8</td>\n",
        "    <td>Mochila</td>\n",
        "  </tr>\n",
        "    <tr>\n",
        "    <td>9</td>\n",
        "    <td>Ankle Bota</td>\n",
        "  </tr>\n",
        "</table>\n",
        "\n"
      ],
      "metadata": {
        "id": "m62FLIS-j6Pz"
      }
    },
    {
      "cell_type": "markdown",
      "source": [
        "Los datos se encuentran disponibles en TensorFlow. Mediante la función `load_lada()` se pueden cargar los dos conjuntos de datos necesarios para la creación del modelo:\n",
        "\n",
        "*   **Imagenes para el entrenamiento.** Permiten ajustar los parámetros del modelo. Las cargaremos en `train_images` y `train_labels`.\n",
        "*   **Imágenes para la validación.** Permiten comprobar la tasa de acierto del modelo. Las cargaremos en `test_images` y `test_labels`. Son imágenes que el modelo no ha utilizado para el entrenamiento y que \"ve\" por primera vez.\n",
        "\n",
        "Como se puede ver, ambos conjuntos tienen las imágenes del artículo y las etiquetas."
      ],
      "metadata": {
        "id": "WUtPT_W3lYSy"
      }
    },
    {
      "cell_type": "code",
      "source": [
        "mnist = tf.keras.datasets.fashion_mnist\n",
        "(train_images, train_labels), (test_images, test_labels) = mnist.load_data()"
      ],
      "metadata": {
        "id": "MX_WB_YwZi3r",
        "colab": {
          "base_uri": "https://localhost:8080/"
        },
        "outputId": "e34d92d1-596b-4643-9100-e569e7786abf"
      },
      "execution_count": 2,
      "outputs": [
        {
          "output_type": "stream",
          "name": "stdout",
          "text": [
            "Downloading data from https://storage.googleapis.com/tensorflow/tf-keras-datasets/train-labels-idx1-ubyte.gz\n",
            "32768/29515 [=================================] - 0s 0us/step\n",
            "40960/29515 [=========================================] - 0s 0us/step\n",
            "Downloading data from https://storage.googleapis.com/tensorflow/tf-keras-datasets/train-images-idx3-ubyte.gz\n",
            "26427392/26421880 [==============================] - 0s 0us/step\n",
            "26435584/26421880 [==============================] - 0s 0us/step\n",
            "Downloading data from https://storage.googleapis.com/tensorflow/tf-keras-datasets/t10k-labels-idx1-ubyte.gz\n",
            "16384/5148 [===============================================================================================] - 0s 0us/step\n",
            "Downloading data from https://storage.googleapis.com/tensorflow/tf-keras-datasets/t10k-images-idx3-ubyte.gz\n",
            "4423680/4422102 [==============================] - 0s 0us/step\n",
            "4431872/4422102 [==============================] - 0s 0us/step\n"
          ]
        }
      ]
    },
    {
      "cell_type": "markdown",
      "source": [
        "\n",
        "Las dimensiones de cada conjunto de datos son las siguientes:\n",
        "\n"
      ],
      "metadata": {
        "id": "xJhNIC4ymgAz"
      }
    },
    {
      "cell_type": "code",
      "source": [
        "train_images.shape, train_labels.shape, test_images.shape, test_labels.shape"
      ],
      "metadata": {
        "colab": {
          "base_uri": "https://localhost:8080/"
        },
        "id": "JBWyYdnwcSDU",
        "outputId": "bb26ad88-cf5a-43a5-91b6-329c6ca96220"
      },
      "execution_count": 3,
      "outputs": [
        {
          "output_type": "execute_result",
          "data": {
            "text/plain": [
              "((60000, 28, 28), (60000,), (10000, 28, 28), (10000,))"
            ]
          },
          "metadata": {},
          "execution_count": 3
        }
      ]
    },
    {
      "cell_type": "markdown",
      "source": [
        "### Representación de una de las imágenes y su etiqueta\n"
      ],
      "metadata": {
        "id": "xBt8UK6G0Pre"
      }
    },
    {
      "cell_type": "code",
      "source": [
        "np.set_printoptions(linewidth=200)\n",
        "plt.imshow(train_images[0], cmap=plt.cm.binary) #La primera imagen\n",
        "print(train_labels[0]) #La primera etiqueta\n",
        "print(train_images[0]) #La imagen como array"
      ],
      "metadata": {
        "colab": {
          "base_uri": "https://localhost:8080/",
          "height": 792
        },
        "id": "EBX0IE6Jabll",
        "outputId": "e13992fd-8e26-48df-83da-1d253f69e0fb"
      },
      "execution_count": 4,
      "outputs": [
        {
          "output_type": "stream",
          "name": "stdout",
          "text": [
            "9\n",
            "[[  0   0   0   0   0   0   0   0   0   0   0   0   0   0   0   0   0   0   0   0   0   0   0   0   0   0   0   0]\n",
            " [  0   0   0   0   0   0   0   0   0   0   0   0   0   0   0   0   0   0   0   0   0   0   0   0   0   0   0   0]\n",
            " [  0   0   0   0   0   0   0   0   0   0   0   0   0   0   0   0   0   0   0   0   0   0   0   0   0   0   0   0]\n",
            " [  0   0   0   0   0   0   0   0   0   0   0   0   1   0   0  13  73   0   0   1   4   0   0   0   0   1   1   0]\n",
            " [  0   0   0   0   0   0   0   0   0   0   0   0   3   0  36 136 127  62  54   0   0   0   1   3   4   0   0   3]\n",
            " [  0   0   0   0   0   0   0   0   0   0   0   0   6   0 102 204 176 134 144 123  23   0   0   0   0  12  10   0]\n",
            " [  0   0   0   0   0   0   0   0   0   0   0   0   0   0 155 236 207 178 107 156 161 109  64  23  77 130  72  15]\n",
            " [  0   0   0   0   0   0   0   0   0   0   0   1   0  69 207 223 218 216 216 163 127 121 122 146 141  88 172  66]\n",
            " [  0   0   0   0   0   0   0   0   0   1   1   1   0 200 232 232 233 229 223 223 215 213 164 127 123 196 229   0]\n",
            " [  0   0   0   0   0   0   0   0   0   0   0   0   0 183 225 216 223 228 235 227 224 222 224 221 223 245 173   0]\n",
            " [  0   0   0   0   0   0   0   0   0   0   0   0   0 193 228 218 213 198 180 212 210 211 213 223 220 243 202   0]\n",
            " [  0   0   0   0   0   0   0   0   0   1   3   0  12 219 220 212 218 192 169 227 208 218 224 212 226 197 209  52]\n",
            " [  0   0   0   0   0   0   0   0   0   0   6   0  99 244 222 220 218 203 198 221 215 213 222 220 245 119 167  56]\n",
            " [  0   0   0   0   0   0   0   0   0   4   0   0  55 236 228 230 228 240 232 213 218 223 234 217 217 209  92   0]\n",
            " [  0   0   1   4   6   7   2   0   0   0   0   0 237 226 217 223 222 219 222 221 216 223 229 215 218 255  77   0]\n",
            " [  0   3   0   0   0   0   0   0   0  62 145 204 228 207 213 221 218 208 211 218 224 223 219 215 224 244 159   0]\n",
            " [  0   0   0   0  18  44  82 107 189 228 220 222 217 226 200 205 211 230 224 234 176 188 250 248 233 238 215   0]\n",
            " [  0  57 187 208 224 221 224 208 204 214 208 209 200 159 245 193 206 223 255 255 221 234 221 211 220 232 246   0]\n",
            " [  3 202 228 224 221 211 211 214 205 205 205 220 240  80 150 255 229 221 188 154 191 210 204 209 222 228 225   0]\n",
            " [ 98 233 198 210 222 229 229 234 249 220 194 215 217 241  65  73 106 117 168 219 221 215 217 223 223 224 229  29]\n",
            " [ 75 204 212 204 193 205 211 225 216 185 197 206 198 213 240 195 227 245 239 223 218 212 209 222 220 221 230  67]\n",
            " [ 48 203 183 194 213 197 185 190 194 192 202 214 219 221 220 236 225 216 199 206 186 181 177 172 181 205 206 115]\n",
            " [  0 122 219 193 179 171 183 196 204 210 213 207 211 210 200 196 194 191 195 191 198 192 176 156 167 177 210  92]\n",
            " [  0   0  74 189 212 191 175 172 175 181 185 188 189 188 193 198 204 209 210 210 211 188 188 194 192 216 170   0]\n",
            " [  2   0   0   0  66 200 222 237 239 242 246 243 244 221 220 193 191 179 182 182 181 176 166 168  99  58   0   0]\n",
            " [  0   0   0   0   0   0   0  40  61  44  72  41  35   0   0   0   0   0   0   0   0   0   0   0   0   0   0   0]\n",
            " [  0   0   0   0   0   0   0   0   0   0   0   0   0   0   0   0   0   0   0   0   0   0   0   0   0   0   0   0]\n",
            " [  0   0   0   0   0   0   0   0   0   0   0   0   0   0   0   0   0   0   0   0   0   0   0   0   0   0   0   0]]\n"
          ]
        },
        {
          "output_type": "display_data",
          "data": {
            "image/png": "[encoded data removed]",
            "text/plain": [
              "<Figure size 432x288 with 1 Axes>"
            ]
          },
          "metadata": {
            "needs_background": "light"
          }
        }
      ]
    },
    {
      "cell_type": "markdown",
      "source": [
        "### Representación de las 25 primeras imágenes con su etiqueta"
      ],
      "metadata": {
        "id": "YjQqDj6g0V1K"
      }
    },
    {
      "cell_type": "code",
      "source": [
        "class_names = ['Camiseta/top', 'Pantalon', 'Jersey', 'Vestido', 'Abrigo', 'Sandalias', 'Camisa', 'Deportiva', 'Mochila', 'Bota']\n",
        "plt.figure(figsize=(10,10))\n",
        "for i in range(0,25):\n",
        "  image = train_images[i]\n",
        "  plt.subplot(5,5,i+1)\n",
        "  plt.xticks([])\n",
        "  plt.yticks([])\n",
        "  plt.grid(False)\n",
        "  plt.imshow(image, cmap=plt.cm.binary)\n",
        "  plt.xlabel(class_names[train_labels[i]])\n",
        "  i+=1\n",
        "plt.show()"
      ],
      "metadata": {
        "colab": {
          "base_uri": "https://localhost:8080/",
          "height": 589
        },
        "id": "ShcKR90wbIri",
        "outputId": "81699472-1263-4d65-fba7-7966daa9d128"
      },
      "execution_count": 5,
      "outputs": [
        {
          "output_type": "display_data",
          "data": {
            "image/png": "[encoded data removed]",
            "text/plain": [
              "<Figure size 720x720 with 25 Axes>"
            ]
          },
          "metadata": {}
        }
      ]
    },
    {
      "cell_type": "markdown",
      "source": [
        "## Desarrollo del modelo"
      ],
      "metadata": {
        "id": "aA-XWSe7d0P-"
      }
    },
    {
      "cell_type": "markdown",
      "source": [
        "### Creación del modelo"
      ],
      "metadata": {
        "id": "u6FYn0TDQsdN"
      }
    },
    {
      "cell_type": "markdown",
      "source": [
        "Consiste en definir las distintas capas de neuronas que se van a utilizar. En este ejemplo utilizaremos una red convolucional, el objetivo de esta red es replicar los procesos que ocurren en la corteza visual y su uso es idóneo para la clasificación de imágenes. Primero extrae las características de la imagen en 2D y después obtiene el vector de una dimensión para predecir la clase."
      ],
      "metadata": {
        "id": "HcPdZLH7SQLO"
      }
    },
    {
      "cell_type": "markdown",
      "source": [
        "#### Red convolucional\n",
        "\n",
        "*   **Capa convolucional** `Conv2D`.  Cuenta con un kernel o núcleo. No es más que una matriz pequeña, que se va desplazando a lo largo y ancho de las imágenes detectando patrones en ellas. A medida que se añaden más capas, se detectan patrones más concretos.\n",
        "*   **Capa MaxPooling** `MaxPooling2D`. Capa que reduce el tamaño de la imagen. \n",
        "* **Capa de aplanado** `Flatten`. Transforman la matriz en un vector de una dimensión porque .\n",
        "* **Capa con perceptrón multicapa clásico** `Dense` Todas las neuronas de una capa conectadas con todas las neuronas de la capa siguiente. La última capa tiene que tener tantas neuronas como clases tienen los datos, es por ello que tiene 10 neuronas.\n",
        "\n",
        "\n"
      ],
      "metadata": {
        "id": "yuedTBcIbLVY"
      }
    },
    {
      "cell_type": "code",
      "source": [
        " model = tf.keras.Sequential([\n",
        "    tf.keras.layers.Conv2D(32, (3,3), padding='same', activation=tf.nn.relu,\n",
        "                           input_shape=(28, 28, 1)),\n",
        "    tf.keras.layers.MaxPooling2D((2, 2), strides=2),\n",
        "    tf.keras.layers.Conv2D(64, (3,3), padding='same', activation=tf.nn.relu),\n",
        "    tf.keras.layers.MaxPooling2D((2, 2), strides=2),\n",
        "    tf.keras.layers.Flatten(),\n",
        "    tf.keras.layers.Dense(128, activation=tf.nn.relu),\n",
        "    tf.keras.layers.Dense(10,  activation=tf.nn.softmax)\n",
        "])"
      ],
      "metadata": {
        "id": "enrWsky5cKYn"
      },
      "execution_count": 7,
      "outputs": []
    },
    {
      "cell_type": "markdown",
      "source": [
        "### Compilación del modelo"
      ],
      "metadata": {
        "id": "xqJKP0q4Q0uk"
      }
    },
    {
      "cell_type": "markdown",
      "source": [
        "Consiste en definir las funciones y métricas que nos ayudan a ajustar los parámetros (pesos de las neuronas) y medir la capacidad de predicción del modelo.\n",
        "* **Función de optimización.** Función para optimizar el modelo. Para ajustar los parámetros internos del modelo y minimizar la pérdida 'loss'.\n",
        "* **Función de pérdida.** Esta es la función que se minimizará con el optimizador, el objetivo es que las salidas sean las deseadas.\n",
        "* **Métricas.** Permiten medir la capacidad de predicción del modelo. En este caso se utiliza Accuracy, métrica que mide la proporción de imágenes correctamente clasificadas."
      ],
      "metadata": {
        "id": "nrlYkL6ZSfFF"
      }
    },
    {
      "cell_type": "code",
      "source": [
        "model.compile(optimizer='adam',\n",
        "              loss='sparse_categorical_crossentropy',\n",
        "              metrics=['accuracy'])"
      ],
      "metadata": {
        "id": "gIukP2OXd524"
      },
      "execution_count": 8,
      "outputs": []
    },
    {
      "cell_type": "markdown",
      "source": [
        "Podemos obtener un resumen con las dimensiones del array que se obtiene tras pasar por cada capa y el número de parámetros que se ajustan."
      ],
      "metadata": {
        "id": "SCeuc54ES2jh"
      }
    },
    {
      "cell_type": "code",
      "source": [
        "model.summary()"
      ],
      "metadata": {
        "colab": {
          "base_uri": "https://localhost:8080/"
        },
        "id": "QaoUEgoD0lzy",
        "outputId": "6fe18743-ebde-4046-bceb-be15b341ce29"
      },
      "execution_count": 9,
      "outputs": [
        {
          "output_type": "stream",
          "name": "stdout",
          "text": [
            "Model: \"sequential_1\"\n",
            "_________________________________________________________________\n",
            " Layer (type)                Output Shape              Param #   \n",
            "=================================================================\n",
            " conv2d_2 (Conv2D)           (None, 28, 28, 32)        320       \n",
            "                                                                 \n",
            " max_pooling2d_2 (MaxPooling  (None, 14, 14, 32)       0         \n",
            " 2D)                                                             \n",
            "                                                                 \n",
            " conv2d_3 (Conv2D)           (None, 14, 14, 64)        18496     \n",
            "                                                                 \n",
            " max_pooling2d_3 (MaxPooling  (None, 7, 7, 64)         0         \n",
            " 2D)                                                             \n",
            "                                                                 \n",
            " flatten_1 (Flatten)         (None, 3136)              0         \n",
            "                                                                 \n",
            " dense_2 (Dense)             (None, 128)               401536    \n",
            "                                                                 \n",
            " dense_3 (Dense)             (None, 10)                1290      \n",
            "                                                                 \n",
            "=================================================================\n",
            "Total params: 421,642\n",
            "Trainable params: 421,642\n",
            "Non-trainable params: 0\n",
            "_________________________________________________________________\n"
          ]
        }
      ]
    },
    {
      "cell_type": "markdown",
      "source": [
        "### Entrenamiento del modelo"
      ],
      "metadata": {
        "id": "plc2210cQ3w9"
      }
    },
    {
      "cell_type": "markdown",
      "source": [
        "Es necesario especificar algunos parámetros para el entrenamiento:\n",
        "\n",
        "\n",
        "* **Imágenes para el entrenamiento.** Para el ajuste de los pesos.\n",
        "* **Épocas.** Indica cuántas veces se realizará el entrenamiento.\n",
        "* **Tamaño de los batch.** El conjunto de datos se divide en subconjuntos más pequeños y en cada época, para cada batch se actualizan los pesos de las neuronas. No se trabaja con todos los datos porque la memoria es limitada.\n",
        "* **Imágenes para la validación.** Para comprobar la capacidad de predicción del modelo ante datos totalmente nuevos.\n",
        "\n"
      ],
      "metadata": {
        "id": "VKoeLoMLRUcy"
      }
    },
    {
      "cell_type": "code",
      "source": [
        "history = model.fit(train_images, train_labels, epochs=10, batch_size=200, validation_data= (test_images, test_labels))"
      ],
      "metadata": {
        "colab": {
          "base_uri": "https://localhost:8080/"
        },
        "id": "AlHU9dK5d6a4",
        "outputId": "11db7164-094a-49ec-c14c-5f3bdc5be37b"
      },
      "execution_count": 10,
      "outputs": [
        {
          "output_type": "stream",
          "name": "stdout",
          "text": [
            "Epoch 1/10\n",
            "300/300 [==============================] - 66s 218ms/step - loss: 1.2003 - accuracy: 0.8135 - val_loss: 0.3819 - val_accuracy: 0.8613\n",
            "Epoch 2/10\n",
            "300/300 [==============================] - 66s 220ms/step - loss: 0.3098 - accuracy: 0.8872 - val_loss: 0.3291 - val_accuracy: 0.8815\n",
            "Epoch 3/10\n",
            "300/300 [==============================] - 66s 219ms/step - loss: 0.2639 - accuracy: 0.9031 - val_loss: 0.3145 - val_accuracy: 0.8866\n",
            "Epoch 4/10\n",
            "300/300 [==============================] - 66s 219ms/step - loss: 0.2319 - accuracy: 0.9140 - val_loss: 0.3043 - val_accuracy: 0.8912\n",
            "Epoch 5/10\n",
            "300/300 [==============================] - 66s 219ms/step - loss: 0.2092 - accuracy: 0.9225 - val_loss: 0.3078 - val_accuracy: 0.8910\n",
            "Epoch 6/10\n",
            "300/300 [==============================] - 66s 218ms/step - loss: 0.1871 - accuracy: 0.9309 - val_loss: 0.2808 - val_accuracy: 0.9026\n",
            "Epoch 7/10\n",
            "300/300 [==============================] - 65s 218ms/step - loss: 0.1742 - accuracy: 0.9345 - val_loss: 0.3021 - val_accuracy: 0.8992\n",
            "Epoch 8/10\n",
            "300/300 [==============================] - 65s 217ms/step - loss: 0.1599 - accuracy: 0.9411 - val_loss: 0.2809 - val_accuracy: 0.9067\n",
            "Epoch 9/10\n",
            "300/300 [==============================] - 66s 219ms/step - loss: 0.1481 - accuracy: 0.9440 - val_loss: 0.3085 - val_accuracy: 0.8960\n",
            "Epoch 10/10\n",
            "300/300 [==============================] - 65s 218ms/step - loss: 0.1342 - accuracy: 0.9503 - val_loss: 0.3020 - val_accuracy: 0.9045\n"
          ]
        }
      ]
    },
    {
      "cell_type": "markdown",
      "source": [
        "### Representación de la tasa de acierto"
      ],
      "metadata": {
        "id": "zGVpc7DLQ64e"
      }
    },
    {
      "cell_type": "code",
      "source": [
        "plt.figure(figsize=(10,4), dpi=150)\n",
        "plt.plot(history.epoch, history.history['val_accuracy'], label='validation')\n",
        "plt.plot(history.epoch, history.history['accuracy'], label='training')\n",
        "plt.legend()\n",
        "plt.title('MNIST DENSE Success Rate Evolution')\n",
        "plt.xlabel('Epoch')\n",
        "plt.xticks(history.epoch)\n",
        "plt.grid()\n",
        "plt.show()"
      ],
      "metadata": {
        "colab": {
          "base_uri": "https://localhost:8080/",
          "height": 594
        },
        "id": "s-h-lbaceY1m",
        "outputId": "8fd819ff-4125-4399-f3d9-d185ccbc7de2"
      },
      "execution_count": 11,
      "outputs": [
        {
          "output_type": "display_data",
          "data": {
            "image/png": "[encoded data removed]",
            "text/plain": [
              "<Figure size 1500x600 with 1 Axes>"
            ]
          },
          "metadata": {
            "needs_background": "light"
          }
        }
      ]
    },
    {
      "cell_type": "markdown",
      "source": [
        "Como podemo ver, la tasa de acierto del modelo es mayor para el conjunto de datos del entrenamiento. \n",
        "> ¿Es normal que la tasa de acierto sea menor para el conjunto de datos de validación?\n",
        "\n"
      ],
      "metadata": {
        "id": "dFmgxhKiRNpj"
      }
    },
    {
      "cell_type": "markdown",
      "source": [
        "## Predicción de un conjunto de imágenes"
      ],
      "metadata": {
        "id": "-ZcKSyhvWX1l"
      }
    },
    {
      "cell_type": "markdown",
      "source": [
        "Una vez entrenado del modelo, podemos seleccionar imágenes y ver las predicciones que realiza para ellas. Obtenemos las predicciones de los datos de validación y su dimensión:"
      ],
      "metadata": {
        "id": "9_IGM8NZW85q"
      }
    },
    {
      "cell_type": "code",
      "source": [
        "prediction = model.predict(test_images)"
      ],
      "metadata": {
        "id": "eVD9Xs-4UEZK"
      },
      "execution_count": 29,
      "outputs": []
    },
    {
      "cell_type": "code",
      "source": [
        "prediction.shape"
      ],
      "metadata": {
        "colab": {
          "base_uri": "https://localhost:8080/"
        },
        "id": "jWaWW0B3a90p",
        "outputId": "76b5abbe-a93c-4854-8c3c-079600c68afa"
      },
      "execution_count": 13,
      "outputs": [
        {
          "output_type": "execute_result",
          "data": {
            "text/plain": [
              "(10000, 10)"
            ]
          },
          "metadata": {},
          "execution_count": 13
        }
      ]
    },
    {
      "cell_type": "markdown",
      "source": [
        "Seleccionamos la predicción de la primera imagen:"
      ],
      "metadata": {
        "id": "uYf2a2xCn8dn"
      }
    },
    {
      "cell_type": "code",
      "source": [
        "prediction[0]"
      ],
      "metadata": {
        "colab": {
          "base_uri": "https://localhost:8080/"
        },
        "id": "ddyOOgUCay8r",
        "outputId": "523e56fa-d237-4663-f591-e03370083ae3"
      },
      "execution_count": 14,
      "outputs": [
        {
          "output_type": "execute_result",
          "data": {
            "text/plain": [
              "array([8.1596063e-13, 1.6651413e-11, 3.6411058e-11, 3.9582405e-13, 8.3272434e-12, 5.5986889e-06, 5.0615176e-13, 7.7433367e-07, 3.2265536e-08, 9.9999368e-01], dtype=float32)"
            ]
          },
          "metadata": {},
          "execution_count": 14
        }
      ]
    },
    {
      "cell_type": "markdown",
      "source": [
        "El elemento devuelto para la predicción de cada imagen es un array de 10 elementos\n",
        "\n",
        "\n",
        "> ¿Qué representa cada elemento del array?\n",
        "\n"
      ],
      "metadata": {
        "id": "gWkC8fS2XSHC"
      }
    },
    {
      "cell_type": "markdown",
      "source": [
        "Seleccionamos la posición del máximo valor de la predicción de la primera imagen."
      ],
      "metadata": {
        "id": "rLNyvOXhcYbU"
      }
    },
    {
      "cell_type": "code",
      "source": [
        "class_names[np.argmax(prediction[0])]"
      ],
      "metadata": {
        "colab": {
          "base_uri": "https://localhost:8080/",
          "height": 36
        },
        "id": "TMrGDL_KWp_y",
        "outputId": "5f1eb203-adce-47e1-ab56-f60f85e1cd4d"
      },
      "execution_count": 15,
      "outputs": [
        {
          "output_type": "execute_result",
          "data": {
            "application/vnd.google.colaboratory.intrinsic+json": {
              "type": "string"
            },
            "text/plain": [
              "'Bota'"
            ]
          },
          "metadata": {},
          "execution_count": 15
        }
      ]
    },
    {
      "cell_type": "markdown",
      "source": [
        "Vemos la verdadera etiqueta de la primera imagen del conjunto de datos de entrenamiento."
      ],
      "metadata": {
        "id": "o8NwlqpTdTGw"
      }
    },
    {
      "cell_type": "code",
      "source": [
        "class_names[test_labels[0]]"
      ],
      "metadata": {
        "colab": {
          "base_uri": "https://localhost:8080/",
          "height": 36
        },
        "id": "vXD6B3CKdLBs",
        "outputId": "5b109a38-891f-41b4-d876-305a4f053aae"
      },
      "execution_count": 16,
      "outputs": [
        {
          "output_type": "execute_result",
          "data": {
            "application/vnd.google.colaboratory.intrinsic+json": {
              "type": "string"
            },
            "text/plain": [
              "'Bota'"
            ]
          },
          "metadata": {},
          "execution_count": 16
        }
      ]
    },
    {
      "cell_type": "markdown",
      "source": [
        "En este caso se trata de un acierto, el modelo predice la clase 9 y efectivamente, su etiqueta real es la 9."
      ],
      "metadata": {
        "id": "C9TzpUzroQ6c"
      }
    },
    {
      "cell_type": "markdown",
      "source": [
        "### Representación gráfica de las predicciones"
      ],
      "metadata": {
        "id": "80i0V1BFYKQr"
      }
    },
    {
      "cell_type": "markdown",
      "source": [
        "Se crea unas funicones para la representación de los artículos de ropa junto con la clase real, la clase predicha y la probabilidad de la clase predicha."
      ],
      "metadata": {
        "id": "mymzGhJKYDfO"
      }
    },
    {
      "cell_type": "code",
      "source": [
        "def plot_image(i, predictions_array, true_labels, images):\n",
        "  predictions_array, true_label, img = predictions_array[i], true_labels[i], images[i]\n",
        "  plt.grid(False)\n",
        "  plt.xticks([])\n",
        "  plt.yticks([])\n",
        "  \n",
        "  plt.imshow(img, cmap=plt.cm.binary)\n",
        "\n",
        "  predicted_label = np.argmax(predictions_array)\n",
        "  if predicted_label == true_label:\n",
        "    color = 'blue'\n",
        "  else:\n",
        "    color = 'red'\n",
        "  \n",
        "  plt.xlabel(\"{} {:2.0f}% ({})\".format(class_names[predicted_label],\n",
        "                                100*np.max(predictions_array),\n",
        "                                class_names[true_label]),\n",
        "                                color=color)\n",
        "\n",
        "def plot_value_array(i, predictions_array, true_label):\n",
        "  predictions_array, true_label = predictions_array[i], true_label[i]\n",
        "  plt.grid(False)\n",
        "  plt.xticks([])\n",
        "  plt.yticks([])\n",
        "  thisplot = plt.bar(range(10), predictions_array, color=\"#777777\")\n",
        "  plt.ylim([0, 1]) \n",
        "  predicted_label = np.argmax(predictions_array)\n",
        "  \n",
        "  thisplot[predicted_label].set_color('red')\n",
        "  thisplot[true_label].set_color('blue')"
      ],
      "metadata": {
        "id": "SGntpHbpYRNK"
      },
      "execution_count": 17,
      "outputs": []
    },
    {
      "cell_type": "markdown",
      "source": [
        "#### Representación de una imagen"
      ],
      "metadata": {
        "id": "3MYePD7WYUIT"
      }
    },
    {
      "cell_type": "code",
      "source": [
        "i = 0\n",
        "plt.figure(figsize=(6,3))\n",
        "plt.subplot(1,2,1)\n",
        "plot_image(i, prediction, test_labels, test_images)\n",
        "plt.subplot(1,2,2)\n",
        "plot_value_array(i, prediction, test_labels)"
      ],
      "metadata": {
        "colab": {
          "base_uri": "https://localhost:8080/",
          "height": 203
        },
        "id": "x20JZOwycjHS",
        "outputId": "8b4ea637-67cb-4a09-9883-0b2c43f590cd"
      },
      "execution_count": 18,
      "outputs": [
        {
          "output_type": "display_data",
          "data": {
            "image/png": "[encoded data removed]",
            "text/plain": [
              "<Figure size 432x216 with 2 Axes>"
            ]
          },
          "metadata": {}
        }
      ]
    },
    {
      "cell_type": "markdown",
      "source": [
        "Debajo de la imagen se muestra la clase predicha, la probabilidad de pertenencia a esta clase y entre paréntesis, la clase real."
      ],
      "metadata": {
        "id": "eM9L6kiJprLD"
      }
    },
    {
      "cell_type": "markdown",
      "source": [
        "#### Representación de un conjunto de imágenes"
      ],
      "metadata": {
        "id": "OaGpSdZepC4d"
      }
    },
    {
      "cell_type": "code",
      "source": [
        "num_rows = 5\n",
        "num_cols = 3\n",
        "num_images = num_rows*num_cols\n",
        "plt.figure(figsize=(2*2*num_cols, 2*num_rows))\n",
        "for i in range(num_images):\n",
        "  plt.subplot(num_rows, 2*num_cols, 2*i+1)\n",
        "  plot_image(i, prediction, test_labels, test_images)\n",
        "  plt.subplot(num_rows, 2*num_cols, 2*i+2)\n",
        "  plot_value_array(i, prediction, test_labels)"
      ],
      "metadata": {
        "colab": {
          "base_uri": "https://localhost:8080/",
          "height": 589
        },
        "id": "1VDxYoT8cjqR",
        "outputId": "9bb0594f-700a-4c0f-b7b0-6f1cb68ffd56"
      },
      "execution_count": 19,
      "outputs": [
        {
          "output_type": "display_data",
          "data": {
            "image/png": "[encoded data removed]",
            "text/plain": [
              "<Figure size 864x720 with 30 Axes>"
            ]
          },
          "metadata": {}
        }
      ]
    },
    {
      "cell_type": "markdown",
      "source": [
        "Se puede ver que en una de las imágenes no hay acierto, se trata de una deportiva y el modelo predice con un 96% la clase sandalia."
      ],
      "metadata": {
        "id": "_pOIELsRr0ie"
      }
    },
    {
      "cell_type": "markdown",
      "source": [
        "## Predicción de una sola imagen"
      ],
      "metadata": {
        "id": "eOAzBd2qlxfV"
      }
    },
    {
      "cell_type": "markdown",
      "source": [
        "Se define el array con los nombres de los artículos para poder hacer la correspondencia de número y nombre más adelante."
      ],
      "metadata": {
        "id": "blyK7grmOiZ5"
      }
    },
    {
      "cell_type": "code",
      "source": [
        "class_names = ['Camiseta/top', 'Pantalon', 'Jersey', 'Vestido', 'Abrigo', 'Sandalias', 'Camisa', 'Deportiva', 'Mochila', 'Bota']"
      ],
      "metadata": {
        "id": "ECZOWLWxOhcb"
      },
      "execution_count": 20,
      "outputs": []
    },
    {
      "cell_type": "markdown",
      "source": [
        "`tensorflow.keras` esta optimizado para hacer predicciones de una colecciones de ejemplos a la vez, por lo que aunque usemos una sola imagen, tenemos que darle una lista."
      ],
      "metadata": {
        "id": "6C6VRKkll30K"
      }
    },
    {
      "cell_type": "code",
      "source": [
        "numero_imagen = 10\n",
        "img = test_images[numero_imagen]"
      ],
      "metadata": {
        "id": "2cBO5r7_2E76"
      },
      "execution_count": 32,
      "outputs": []
    },
    {
      "cell_type": "markdown",
      "source": [
        "Representación de la imagen seleccionada"
      ],
      "metadata": {
        "id": "th1kwAGvPsw_"
      }
    },
    {
      "cell_type": "code",
      "source": [
        "plt.imshow(img, cmap=plt.cm.binary)"
      ],
      "metadata": {
        "colab": {
          "base_uri": "https://localhost:8080/",
          "height": 283
        },
        "id": "801izxUrPqPD",
        "outputId": "8095cae6-01be-491a-e2e8-fca95343259f"
      },
      "execution_count": 33,
      "outputs": [
        {
          "output_type": "execute_result",
          "data": {
            "text/plain": [
              "<matplotlib.image.AxesImage at 0x7fe028c658d0>"
            ]
          },
          "metadata": {},
          "execution_count": 33
        },
        {
          "output_type": "display_data",
          "data": {
            "image/png": "[encoded data removed]",
            "text/plain": [
              "<Figure size 432x288 with 1 Axes>"
            ]
          },
          "metadata": {
            "needs_background": "light"
          }
        }
      ]
    },
    {
      "cell_type": "markdown",
      "source": [
        "Creación de la lista con la imagen seleccionada"
      ],
      "metadata": {
        "id": "RhY_yJlXOVZy"
      }
    },
    {
      "cell_type": "code",
      "source": [
        "img = np.array([img])\n",
        "img.shape"
      ],
      "metadata": {
        "colab": {
          "base_uri": "https://localhost:8080/"
        },
        "id": "kht0luNImKdE",
        "outputId": "624a91e7-bdd8-488d-a710-7536e30ab335"
      },
      "execution_count": 34,
      "outputs": [
        {
          "output_type": "execute_result",
          "data": {
            "text/plain": [
              "(1, 28, 28)"
            ]
          },
          "metadata": {},
          "execution_count": 34
        }
      ]
    },
    {
      "cell_type": "markdown",
      "source": [
        "Predicción"
      ],
      "metadata": {
        "id": "rjpSXR3LOZze"
      }
    },
    {
      "cell_type": "code",
      "source": [
        "img_prediction = model.predict(img)\n",
        "img_prediction"
      ],
      "metadata": {
        "colab": {
          "base_uri": "https://localhost:8080/"
        },
        "id": "9dPESB5EmNL_",
        "outputId": "3d322a08-fda3-4b8e-fccc-f666457bbec8"
      },
      "execution_count": 35,
      "outputs": [
        {
          "output_type": "execute_result",
          "data": {
            "text/plain": [
              "array([[2.1794383e-05, 2.6831000e-07, 1.3982047e-03, 6.3766635e-07, 9.9269098e-01, 5.7929648e-09, 5.8881552e-03, 1.1975912e-09, 2.7068814e-09, 1.7535940e-09]], dtype=float32)"
            ]
          },
          "metadata": {},
          "execution_count": 35
        }
      ]
    },
    {
      "cell_type": "markdown",
      "source": [
        "La clase predicha es:"
      ],
      "metadata": {
        "id": "74ZqL2V23aRW"
      }
    },
    {
      "cell_type": "code",
      "source": [
        "clase_predicha = np.argmax(img_prediction)\n",
        "class_names[clase_predicha]"
      ],
      "metadata": {
        "colab": {
          "base_uri": "https://localhost:8080/",
          "height": 36
        },
        "id": "uaK6nTBQ1EvD",
        "outputId": "4d3078ce-bdd8-4995-843d-266d4a0eea30"
      },
      "execution_count": 36,
      "outputs": [
        {
          "output_type": "execute_result",
          "data": {
            "application/vnd.google.colaboratory.intrinsic+json": {
              "type": "string"
            },
            "text/plain": [
              "'Abrigo'"
            ]
          },
          "metadata": {},
          "execution_count": 36
        }
      ]
    },
    {
      "cell_type": "markdown",
      "source": [
        "La clase real es:"
      ],
      "metadata": {
        "id": "F2PwPVWA3dDK"
      }
    },
    {
      "cell_type": "code",
      "source": [
        "clase_real = test_labels[numero_imagen]\n",
        "class_names[clase_real]"
      ],
      "metadata": {
        "colab": {
          "base_uri": "https://localhost:8080/",
          "height": 36
        },
        "id": "MGAGNnFB1K7F",
        "outputId": "8704486f-6f34-445e-8460-e802e32512d6"
      },
      "execution_count": 37,
      "outputs": [
        {
          "output_type": "execute_result",
          "data": {
            "application/vnd.google.colaboratory.intrinsic+json": {
              "type": "string"
            },
            "text/plain": [
              "'Abrigo'"
            ]
          },
          "metadata": {},
          "execution_count": 37
        }
      ]
    },
    {
      "cell_type": "markdown",
      "source": [
        "Para representar la imagen i y su predicción, usar el siguiente código"
      ],
      "metadata": {
        "id": "S1ZG05bLOHjF"
      }
    },
    {
      "cell_type": "code",
      "source": [
        "i = numero_imagen\n",
        "plt.figure(figsize=(6,3))\n",
        "plt.subplot(1,2,1)\n",
        "plot_image(i, prediction, test_labels, test_images)\n",
        "plt.subplot(1,2,2)\n",
        "plot_value_array(i, prediction, test_labels)"
      ],
      "metadata": {
        "colab": {
          "base_uri": "https://localhost:8080/",
          "height": 203
        },
        "id": "5ALJ1QwgmQCj",
        "outputId": "df68536b-9fb7-4418-f78a-0f21831f14eb"
      },
      "execution_count": 38,
      "outputs": [
        {
          "output_type": "display_data",
          "data": {
            "image/png": "[encoded data removed]",
            "text/plain": [
              "<Figure size 432x216 with 2 Axes>"
            ]
          },
          "metadata": {}
        }
      ]
    }
  ]
}